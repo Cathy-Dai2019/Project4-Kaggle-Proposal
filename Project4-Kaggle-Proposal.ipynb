{
 "cells": [
  {
   "cell_type": "markdown",
   "metadata": {},
   "source": [
    "<img src=\"http://imgur.com/1ZcRyrc.png\" style=\"float: left; margin: 20px; height: 55px\">\n",
    "\n",
    "# Project 4: Final Project - BigMart Sales Prediction\n",
    "\n",
    "_Submitter: Cathy Dai (Data Science Course)_\n",
    "\n",
    "---\n",
    "\n"
   ]
  },
  {
   "cell_type": "markdown",
   "metadata": {},
   "source": [
    "## Final Project Proposal"
   ]
  },
  {
   "cell_type": "markdown",
   "metadata": {},
   "source": [
    "### Problem statement\n",
    "\n",
    "> Come across supply chain, we always want to understand the trends of the sales for products. Here, we have BigMart dataset which have collected in year 2013 for 1559 products across 10 stores in different cities. Also, certain attributes of each product and store have been defined. The aim is to build a predictive model and find out the sales of each product at a particular store.\n",
    "\n",
    "> In this project, I would like to use machine learning to build a predictive model and find out the sales of each product at a particular store. "
   ]
  },
  {
   "cell_type": "markdown",
   "metadata": {},
   "source": [
    "### Hypothesis/Assumption"
   ]
  },
  {
   "cell_type": "markdown",
   "metadata": {},
   "source": [
    "> The dataset used for this project is from Kaggle.\n",
    "> The databasee consist of BigMart csv file, the content include: Item_Identifier, Item_Weight, Item_Fat_Content, Item_Visibility, Item_Type,Item_MRP, Outlet_Identifier, Outlet_Establishment_Year,Outlet_Size, Outlet_Location_Type, Outlet_Type, Item_Outlet_Sales. \n",
    "> Based on the dataset from Baby department, i will perform:\n",
    "- Data cleaning and formatting\n",
    "- Exploratory data analysis\n",
    "\n",
    "> Reference website:\n",
    "> https://www.kaggle.com/devashish0507/big-mart-sales-prediction\n",
    "\n",
    "> After a series of understanding from the dataset, perform below:\n",
    "- Feature engineering and selection\n",
    "- Establish a baseline and compare several machine learning models on a performance metric\n",
    "\n",
    "> In this study, my scope will be using machine learning methodology to predict outlet sales by using train-test-split.\n",
    "\n"
   ]
  },
  {
   "cell_type": "markdown",
   "metadata": {},
   "source": [
    "### Success Matrix\n",
    "\n",
    "> To predict outlet sales using machine learning train/test split."
   ]
  },
  {
   "cell_type": "markdown",
   "metadata": {},
   "source": [
    "### References:\n",
    "- https://www.kaggle.com/devashish0507/big-mart-sales-prediction"
   ]
  },
  {
   "cell_type": "code",
   "execution_count": null,
   "metadata": {},
   "outputs": [],
   "source": []
  }
 ],
 "metadata": {
  "anaconda-cloud": {},
  "kernelspec": {
   "display_name": "Python 3",
   "language": "python",
   "name": "python3"
  },
  "language_info": {
   "codemirror_mode": {
    "name": "ipython",
    "version": 3
   },
   "file_extension": ".py",
   "mimetype": "text/x-python",
   "name": "python",
   "nbconvert_exporter": "python",
   "pygments_lexer": "ipython3",
   "version": "3.7.3"
  },
  "toc": {
   "base_numbering": 1,
   "nav_menu": {},
   "number_sections": true,
   "sideBar": true,
   "skip_h1_title": false,
   "title_cell": "Table of Contents",
   "title_sidebar": "Contents",
   "toc_cell": false,
   "toc_position": {},
   "toc_section_display": true,
   "toc_window_display": false
  },
  "varInspector": {
   "cols": {
    "lenName": 16,
    "lenType": 16,
    "lenVar": 40
   },
   "kernels_config": {
    "python": {
     "delete_cmd_postfix": "",
     "delete_cmd_prefix": "del ",
     "library": "var_list.py",
     "varRefreshCmd": "print(var_dic_list())"
    },
    "r": {
     "delete_cmd_postfix": ") ",
     "delete_cmd_prefix": "rm(",
     "library": "var_list.r",
     "varRefreshCmd": "cat(var_dic_list()) "
    }
   },
   "types_to_exclude": [
    "module",
    "function",
    "builtin_function_or_method",
    "instance",
    "_Feature"
   ],
   "window_display": false
  }
 },
 "nbformat": 4,
 "nbformat_minor": 2
}
